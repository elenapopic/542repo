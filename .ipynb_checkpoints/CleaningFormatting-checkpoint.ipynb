{
 "cells": [
  {
   "cell_type": "markdown",
   "metadata": {},
   "source": [
    "<center><img src=\"http://i.imgur.com/sSaOozN.png\" width=\"500\"></center>"
   ]
  },
  {
   "cell_type": "markdown",
   "metadata": {},
   "source": [
    "## Course: Computational Thinking for Governance Analytics\n",
    "\n",
    "### Prof. José Manuel Magallanes, PhD \n",
    "* Visiting Professor of Computational Policy at Evans School of Public Policy and Governance, and eScience Institute Senior Data Science Fellow, University of Washington.\n",
    "* Professor of Government and Political Methodology, Pontificia Universidad Católica del Perú. \n",
    "\n",
    "_____\n",
    "\n",
    "# Session 2:  Data Cleaning and Formatting in Python\n",
    "<a id='beginning'></a>"
   ]
  },
  {
   "cell_type": "markdown",
   "metadata": {},
   "source": [
    "Having collected the data does not always allow you to produce some analytics right away. There is often a lot of pre processing to be done. \n",
    "\n",
    "This session is about:\n",
    "\n",
    "* Cleaning: making sure each cell has a value that could be used in your coming procedures. The _impurities_ do not allow formatting the data correctly: commas instead of points and viceversa, blanks/spaces, unneeded symbols (dollar, euro symbols), or non-standard symbols to represent missing values.\n",
    "\n",
    "* Fomatting: making sure the clean value is in the right data type. if you are going to do text analysis, you may need to get rid of repetitive words, normalize them into lower case, and turn them back to their root or stem. For statistical work, you need to differentiate among nominal, ordinal, numerical and strings.\n",
    "\n",
    "Let me use the next table with information on **Democracy and its components** by country:"
   ]
  },
  {
   "cell_type": "code",
   "execution_count": 35,
   "metadata": {},
   "outputs": [
    {
     "data": {
      "text/html": [
       "\n",
       "        <iframe\n",
       "            width=\"900\"\n",
       "            height=\"500\"\n",
       "            src=\"https://en.wikipedia.org/wiki/Democracy_Index#Components\"\n",
       "            frameborder=\"0\"\n",
       "            allowfullscreen\n",
       "            \n",
       "        ></iframe>\n",
       "        "
      ],
      "text/plain": [
       "<IPython.lib.display.IFrame at 0x11f4b05b0>"
      ]
     },
     "execution_count": 35,
     "metadata": {},
     "output_type": "execute_result"
    }
   ],
   "source": [
    "from IPython.display import IFrame  \n",
    "wikiLink=\"https://en.wikipedia.org/wiki/Democracy_Index#Components\" \n",
    "IFrame(wikiLink, width=900, height=500)"
   ]
  },
  {
   "cell_type": "markdown",
   "metadata": {},
   "source": [
    "You should have observed the following:\n",
    "\n",
    "1. One score of democracy is offered for the participant countries.\n",
    "2. Four levels of democracy are offered for the participant countries.\n",
    "3. The score is computed from other variables"
   ]
  },
  {
   "cell_type": "markdown",
   "metadata": {},
   "source": [
    "Let's try to get the table using _pandas_:"
   ]
  },
  {
   "cell_type": "code",
   "execution_count": 2,
   "metadata": {},
   "outputs": [],
   "source": [
    "import pandas as pd\n",
    "\n",
    "wikiTables=pd.read_html(wikiLink, # link\n",
    "                        header=0, # where is the header?\n",
    "                        flavor='bs4', # helper to translate html\n",
    "                        attrs={'class': 'wikitable sortable'}) # attributes to identify element(s)"
   ]
  },
  {
   "cell_type": "markdown",
   "metadata": {},
   "source": [
    "Remember the object **wikiTables** is a list. I know before hand that our DF is the third one:"
   ]
  },
  {
   "cell_type": "code",
   "execution_count": 3,
   "metadata": {},
   "outputs": [
    {
     "data": {
      "text/html": [
       "<div>\n",
       "<style scoped>\n",
       "    .dataframe tbody tr th:only-of-type {\n",
       "        vertical-align: middle;\n",
       "    }\n",
       "\n",
       "    .dataframe tbody tr th {\n",
       "        vertical-align: top;\n",
       "    }\n",
       "\n",
       "    .dataframe thead th {\n",
       "        text-align: right;\n",
       "    }\n",
       "</style>\n",
       "<table border=\"1\" class=\"dataframe\">\n",
       "  <thead>\n",
       "    <tr style=\"text-align: right;\">\n",
       "      <th></th>\n",
       "      <th>Rank</th>\n",
       "      <th>.mw-parser-output .tooltip-dotted{border-bottom:1px dotted;cursor:help}Δ Rank</th>\n",
       "      <th>Country</th>\n",
       "      <th>Regime type</th>\n",
       "      <th>Overall score</th>\n",
       "      <th>Δ Score</th>\n",
       "      <th>Elec­toral pro­cess and plura­lism</th>\n",
       "      <th>Func­tioning of govern­ment</th>\n",
       "      <th>Poli­tical partici­pation</th>\n",
       "      <th>Poli­tical cul­ture</th>\n",
       "      <th>Civil liber­ties</th>\n",
       "    </tr>\n",
       "  </thead>\n",
       "  <tbody>\n",
       "    <tr>\n",
       "      <th>0</th>\n",
       "      <td>Full democracies</td>\n",
       "      <td>Full democracies</td>\n",
       "      <td>Full democracies</td>\n",
       "      <td>Full democracies</td>\n",
       "      <td>Full democracies</td>\n",
       "      <td>Full democracies</td>\n",
       "      <td>Full democracies</td>\n",
       "      <td>Full democracies</td>\n",
       "      <td>Full democracies</td>\n",
       "      <td>Full democracies</td>\n",
       "      <td>Full democracies</td>\n",
       "    </tr>\n",
       "    <tr>\n",
       "      <th>1</th>\n",
       "      <td>1</td>\n",
       "      <td>NaN</td>\n",
       "      <td>Norway</td>\n",
       "      <td>Full democracy</td>\n",
       "      <td>9.75</td>\n",
       "      <td>0.06</td>\n",
       "      <td>10.00</td>\n",
       "      <td>9.64</td>\n",
       "      <td>10.00</td>\n",
       "      <td>10.00</td>\n",
       "      <td>9.12</td>\n",
       "    </tr>\n",
       "    <tr>\n",
       "      <th>2</th>\n",
       "      <td>2</td>\n",
       "      <td>2</td>\n",
       "      <td>New Zealand</td>\n",
       "      <td>Full democracy</td>\n",
       "      <td>9.37</td>\n",
       "      <td>0.12</td>\n",
       "      <td>10.00</td>\n",
       "      <td>8.93</td>\n",
       "      <td>9.44</td>\n",
       "      <td>8.75</td>\n",
       "      <td>9.71</td>\n",
       "    </tr>\n",
       "    <tr>\n",
       "      <th>3</th>\n",
       "      <td>3</td>\n",
       "      <td>3</td>\n",
       "      <td>Finland</td>\n",
       "      <td>Full democracy</td>\n",
       "      <td>9.27</td>\n",
       "      <td>0.07</td>\n",
       "      <td>10.00</td>\n",
       "      <td>9.29</td>\n",
       "      <td>8.89</td>\n",
       "      <td>8.75</td>\n",
       "      <td>9.41</td>\n",
       "    </tr>\n",
       "    <tr>\n",
       "      <th>4</th>\n",
       "      <td>4</td>\n",
       "      <td>1</td>\n",
       "      <td>Sweden</td>\n",
       "      <td>Full democracy</td>\n",
       "      <td>9.26</td>\n",
       "      <td>NaN</td>\n",
       "      <td>9.58</td>\n",
       "      <td>9.29</td>\n",
       "      <td>8.33</td>\n",
       "      <td>10.00</td>\n",
       "      <td>9.12</td>\n",
       "    </tr>\n",
       "    <tr>\n",
       "      <th>...</th>\n",
       "      <td>...</td>\n",
       "      <td>...</td>\n",
       "      <td>...</td>\n",
       "      <td>...</td>\n",
       "      <td>...</td>\n",
       "      <td>...</td>\n",
       "      <td>...</td>\n",
       "      <td>...</td>\n",
       "      <td>...</td>\n",
       "      <td>...</td>\n",
       "      <td>...</td>\n",
       "    </tr>\n",
       "    <tr>\n",
       "      <th>166</th>\n",
       "      <td>162</td>\n",
       "      <td>2</td>\n",
       "      <td>Central African Republic</td>\n",
       "      <td>Authoritarian</td>\n",
       "      <td>1.43</td>\n",
       "      <td>0.11</td>\n",
       "      <td>1.25</td>\n",
       "      <td>0.00</td>\n",
       "      <td>1.67</td>\n",
       "      <td>1.88</td>\n",
       "      <td>2.35</td>\n",
       "    </tr>\n",
       "    <tr>\n",
       "      <th>167</th>\n",
       "      <td>164</td>\n",
       "      <td>2</td>\n",
       "      <td>Democratic Republic of the Congo</td>\n",
       "      <td>Authoritarian</td>\n",
       "      <td>1.40</td>\n",
       "      <td>0.27</td>\n",
       "      <td>0.75</td>\n",
       "      <td>0.00</td>\n",
       "      <td>2.22</td>\n",
       "      <td>3.13</td>\n",
       "      <td>0.88</td>\n",
       "    </tr>\n",
       "    <tr>\n",
       "      <th>168</th>\n",
       "      <td>165</td>\n",
       "      <td>2</td>\n",
       "      <td>North Korea</td>\n",
       "      <td>Authoritarian</td>\n",
       "      <td>1.08</td>\n",
       "      <td>NaN</td>\n",
       "      <td>0.00</td>\n",
       "      <td>2.50</td>\n",
       "      <td>1.67</td>\n",
       "      <td>1.25</td>\n",
       "      <td>0.00</td>\n",
       "    </tr>\n",
       "    <tr>\n",
       "      <th>169</th>\n",
       "      <td>166</td>\n",
       "      <td>31</td>\n",
       "      <td>Myanmar</td>\n",
       "      <td>Authoritarian</td>\n",
       "      <td>1.02</td>\n",
       "      <td>2.04</td>\n",
       "      <td>0.00</td>\n",
       "      <td>0.00</td>\n",
       "      <td>1.67</td>\n",
       "      <td>3.13</td>\n",
       "      <td>0.29</td>\n",
       "    </tr>\n",
       "    <tr>\n",
       "      <th>170</th>\n",
       "      <td>167</td>\n",
       "      <td>28</td>\n",
       "      <td>Afghanistan</td>\n",
       "      <td>Authoritarian</td>\n",
       "      <td>0.32</td>\n",
       "      <td>2.53</td>\n",
       "      <td>0.00</td>\n",
       "      <td>0.07</td>\n",
       "      <td>0.00</td>\n",
       "      <td>1.25</td>\n",
       "      <td>0.29</td>\n",
       "    </tr>\n",
       "  </tbody>\n",
       "</table>\n",
       "<p>171 rows × 11 columns</p>\n",
       "</div>"
      ],
      "text/plain": [
       "                 Rank  \\\n",
       "0    Full democracies   \n",
       "1                   1   \n",
       "2                   2   \n",
       "3                   3   \n",
       "4                   4   \n",
       "..                ...   \n",
       "166               162   \n",
       "167               164   \n",
       "168               165   \n",
       "169               166   \n",
       "170               167   \n",
       "\n",
       "    .mw-parser-output .tooltip-dotted{border-bottom:1px dotted;cursor:help}Δ Rank  \\\n",
       "0                                     Full democracies                              \n",
       "1                                                  NaN                              \n",
       "2                                                    2                              \n",
       "3                                                    3                              \n",
       "4                                                    1                              \n",
       "..                                                 ...                              \n",
       "166                                                  2                              \n",
       "167                                                  2                              \n",
       "168                                                  2                              \n",
       "169                                                 31                              \n",
       "170                                                 28                              \n",
       "\n",
       "                              Country       Regime type     Overall score  \\\n",
       "0                    Full democracies  Full democracies  Full democracies   \n",
       "1                              Norway    Full democracy              9.75   \n",
       "2                         New Zealand    Full democracy              9.37   \n",
       "3                             Finland    Full democracy              9.27   \n",
       "4                              Sweden    Full democracy              9.26   \n",
       "..                                ...               ...               ...   \n",
       "166          Central African Republic     Authoritarian              1.43   \n",
       "167  Democratic Republic of the Congo     Authoritarian              1.40   \n",
       "168                       North Korea     Authoritarian              1.08   \n",
       "169                           Myanmar     Authoritarian              1.02   \n",
       "170                       Afghanistan     Authoritarian              0.32   \n",
       "\n",
       "              Δ Score Elec­toral pro­cess and plura­lism  \\\n",
       "0    Full democracies                   Full democracies   \n",
       "1                0.06                              10.00   \n",
       "2                0.12                              10.00   \n",
       "3                0.07                              10.00   \n",
       "4                 NaN                               9.58   \n",
       "..                ...                                ...   \n",
       "166              0.11                               1.25   \n",
       "167              0.27                               0.75   \n",
       "168               NaN                               0.00   \n",
       "169              2.04                               0.00   \n",
       "170              2.53                               0.00   \n",
       "\n",
       "    Func­tioning of govern­ment Poli­tical partici­pation Poli­tical cul­ture  \\\n",
       "0              Full democracies          Full democracies    Full democracies   \n",
       "1                          9.64                     10.00               10.00   \n",
       "2                          8.93                      9.44                8.75   \n",
       "3                          9.29                      8.89                8.75   \n",
       "4                          9.29                      8.33               10.00   \n",
       "..                          ...                       ...                 ...   \n",
       "166                        0.00                      1.67                1.88   \n",
       "167                        0.00                      2.22                3.13   \n",
       "168                        2.50                      1.67                1.25   \n",
       "169                        0.00                      1.67                3.13   \n",
       "170                        0.07                      0.00                1.25   \n",
       "\n",
       "     Civil liber­ties  \n",
       "0    Full democracies  \n",
       "1                9.12  \n",
       "2                9.71  \n",
       "3                9.41  \n",
       "4                9.12  \n",
       "..                ...  \n",
       "166              2.35  \n",
       "167              0.88  \n",
       "168              0.00  \n",
       "169              0.29  \n",
       "170              0.29  \n",
       "\n",
       "[171 rows x 11 columns]"
      ]
     },
     "execution_count": 3,
     "metadata": {},
     "output_type": "execute_result"
    }
   ],
   "source": [
    "wikiTables[2] # you should vary this index until you get the table you need!"
   ]
  },
  {
   "cell_type": "markdown",
   "metadata": {},
   "source": [
    "Pandas will show you the _head_ and the _tail_ of the dataframe. There you can verify if the column names are well positioned. Let me save the data frame temporarily:"
   ]
  },
  {
   "cell_type": "code",
   "execution_count": 4,
   "metadata": {},
   "outputs": [],
   "source": [
    "DFwiki=wikiTables[2].copy()"
   ]
  },
  {
   "cell_type": "markdown",
   "metadata": {},
   "source": [
    "# I. Cleaning\n",
    "\n",
    "1. Keep columns needed"
   ]
  },
  {
   "cell_type": "code",
   "execution_count": 5,
   "metadata": {},
   "outputs": [
    {
     "data": {
      "text/plain": [
       "Index(['Rank',\n",
       "       '.mw-parser-output .tooltip-dotted{border-bottom:1px dotted;cursor:help}Δ Rank',\n",
       "       'Country', 'Regime type', 'Overall score', 'Δ Score',\n",
       "       'Elec­toral pro­cess and plura­lism', 'Func­tioning of govern­ment',\n",
       "       'Poli­tical partici­pation', 'Poli­tical cul­ture', 'Civil liber­ties'],\n",
       "      dtype='object')"
      ]
     },
     "execution_count": 5,
     "metadata": {},
     "output_type": "execute_result"
    }
   ],
   "source": [
    "# columns present\n",
    "DFwiki.columns"
   ]
  },
  {
   "cell_type": "code",
   "execution_count": 6,
   "metadata": {},
   "outputs": [
    {
     "data": {
      "text/html": [
       "<div>\n",
       "<style scoped>\n",
       "    .dataframe tbody tr th:only-of-type {\n",
       "        vertical-align: middle;\n",
       "    }\n",
       "\n",
       "    .dataframe tbody tr th {\n",
       "        vertical-align: top;\n",
       "    }\n",
       "\n",
       "    .dataframe thead th {\n",
       "        text-align: right;\n",
       "    }\n",
       "</style>\n",
       "<table border=\"1\" class=\"dataframe\">\n",
       "  <thead>\n",
       "    <tr style=\"text-align: right;\">\n",
       "      <th></th>\n",
       "      <th>Country</th>\n",
       "      <th>Regime type</th>\n",
       "      <th>Overall score</th>\n",
       "      <th>Elec­toral pro­cess and plura­lism</th>\n",
       "      <th>Func­tioning of govern­ment</th>\n",
       "      <th>Poli­tical partici­pation</th>\n",
       "      <th>Poli­tical cul­ture</th>\n",
       "      <th>Civil liber­ties</th>\n",
       "    </tr>\n",
       "  </thead>\n",
       "  <tbody>\n",
       "    <tr>\n",
       "      <th>0</th>\n",
       "      <td>Full democracies</td>\n",
       "      <td>Full democracies</td>\n",
       "      <td>Full democracies</td>\n",
       "      <td>Full democracies</td>\n",
       "      <td>Full democracies</td>\n",
       "      <td>Full democracies</td>\n",
       "      <td>Full democracies</td>\n",
       "      <td>Full democracies</td>\n",
       "    </tr>\n",
       "    <tr>\n",
       "      <th>1</th>\n",
       "      <td>Norway</td>\n",
       "      <td>Full democracy</td>\n",
       "      <td>9.75</td>\n",
       "      <td>10.00</td>\n",
       "      <td>9.64</td>\n",
       "      <td>10.00</td>\n",
       "      <td>10.00</td>\n",
       "      <td>9.12</td>\n",
       "    </tr>\n",
       "    <tr>\n",
       "      <th>2</th>\n",
       "      <td>New Zealand</td>\n",
       "      <td>Full democracy</td>\n",
       "      <td>9.37</td>\n",
       "      <td>10.00</td>\n",
       "      <td>8.93</td>\n",
       "      <td>9.44</td>\n",
       "      <td>8.75</td>\n",
       "      <td>9.71</td>\n",
       "    </tr>\n",
       "    <tr>\n",
       "      <th>3</th>\n",
       "      <td>Finland</td>\n",
       "      <td>Full democracy</td>\n",
       "      <td>9.27</td>\n",
       "      <td>10.00</td>\n",
       "      <td>9.29</td>\n",
       "      <td>8.89</td>\n",
       "      <td>8.75</td>\n",
       "      <td>9.41</td>\n",
       "    </tr>\n",
       "    <tr>\n",
       "      <th>4</th>\n",
       "      <td>Sweden</td>\n",
       "      <td>Full democracy</td>\n",
       "      <td>9.26</td>\n",
       "      <td>9.58</td>\n",
       "      <td>9.29</td>\n",
       "      <td>8.33</td>\n",
       "      <td>10.00</td>\n",
       "      <td>9.12</td>\n",
       "    </tr>\n",
       "    <tr>\n",
       "      <th>...</th>\n",
       "      <td>...</td>\n",
       "      <td>...</td>\n",
       "      <td>...</td>\n",
       "      <td>...</td>\n",
       "      <td>...</td>\n",
       "      <td>...</td>\n",
       "      <td>...</td>\n",
       "      <td>...</td>\n",
       "    </tr>\n",
       "    <tr>\n",
       "      <th>166</th>\n",
       "      <td>Central African Republic</td>\n",
       "      <td>Authoritarian</td>\n",
       "      <td>1.43</td>\n",
       "      <td>1.25</td>\n",
       "      <td>0.00</td>\n",
       "      <td>1.67</td>\n",
       "      <td>1.88</td>\n",
       "      <td>2.35</td>\n",
       "    </tr>\n",
       "    <tr>\n",
       "      <th>167</th>\n",
       "      <td>Democratic Republic of the Congo</td>\n",
       "      <td>Authoritarian</td>\n",
       "      <td>1.40</td>\n",
       "      <td>0.75</td>\n",
       "      <td>0.00</td>\n",
       "      <td>2.22</td>\n",
       "      <td>3.13</td>\n",
       "      <td>0.88</td>\n",
       "    </tr>\n",
       "    <tr>\n",
       "      <th>168</th>\n",
       "      <td>North Korea</td>\n",
       "      <td>Authoritarian</td>\n",
       "      <td>1.08</td>\n",
       "      <td>0.00</td>\n",
       "      <td>2.50</td>\n",
       "      <td>1.67</td>\n",
       "      <td>1.25</td>\n",
       "      <td>0.00</td>\n",
       "    </tr>\n",
       "    <tr>\n",
       "      <th>169</th>\n",
       "      <td>Myanmar</td>\n",
       "      <td>Authoritarian</td>\n",
       "      <td>1.02</td>\n",
       "      <td>0.00</td>\n",
       "      <td>0.00</td>\n",
       "      <td>1.67</td>\n",
       "      <td>3.13</td>\n",
       "      <td>0.29</td>\n",
       "    </tr>\n",
       "    <tr>\n",
       "      <th>170</th>\n",
       "      <td>Afghanistan</td>\n",
       "      <td>Authoritarian</td>\n",
       "      <td>0.32</td>\n",
       "      <td>0.00</td>\n",
       "      <td>0.07</td>\n",
       "      <td>0.00</td>\n",
       "      <td>1.25</td>\n",
       "      <td>0.29</td>\n",
       "    </tr>\n",
       "  </tbody>\n",
       "</table>\n",
       "<p>171 rows × 8 columns</p>\n",
       "</div>"
      ],
      "text/plain": [
       "                              Country       Regime type     Overall score  \\\n",
       "0                    Full democracies  Full democracies  Full democracies   \n",
       "1                              Norway    Full democracy              9.75   \n",
       "2                         New Zealand    Full democracy              9.37   \n",
       "3                             Finland    Full democracy              9.27   \n",
       "4                              Sweden    Full democracy              9.26   \n",
       "..                                ...               ...               ...   \n",
       "166          Central African Republic     Authoritarian              1.43   \n",
       "167  Democratic Republic of the Congo     Authoritarian              1.40   \n",
       "168                       North Korea     Authoritarian              1.08   \n",
       "169                           Myanmar     Authoritarian              1.02   \n",
       "170                       Afghanistan     Authoritarian              0.32   \n",
       "\n",
       "    Elec­toral pro­cess and plura­lism Func­tioning of govern­ment  \\\n",
       "0                     Full democracies            Full democracies   \n",
       "1                                10.00                        9.64   \n",
       "2                                10.00                        8.93   \n",
       "3                                10.00                        9.29   \n",
       "4                                 9.58                        9.29   \n",
       "..                                 ...                         ...   \n",
       "166                               1.25                        0.00   \n",
       "167                               0.75                        0.00   \n",
       "168                               0.00                        2.50   \n",
       "169                               0.00                        0.00   \n",
       "170                               0.00                        0.07   \n",
       "\n",
       "    Poli­tical partici­pation Poli­tical cul­ture  Civil liber­ties  \n",
       "0            Full democracies    Full democracies  Full democracies  \n",
       "1                       10.00               10.00              9.12  \n",
       "2                        9.44                8.75              9.71  \n",
       "3                        8.89                8.75              9.41  \n",
       "4                        8.33               10.00              9.12  \n",
       "..                        ...                 ...               ...  \n",
       "166                      1.67                1.88              2.35  \n",
       "167                      2.22                3.13              0.88  \n",
       "168                      1.67                1.25              0.00  \n",
       "169                      1.67                3.13              0.29  \n",
       "170                      0.00                1.25              0.29  \n",
       "\n",
       "[171 rows x 8 columns]"
      ]
     },
     "execution_count": 6,
     "metadata": {},
     "output_type": "execute_result"
    }
   ],
   "source": [
    "# dropping\n",
    "DFwiki.drop(columns=DFwiki.columns[[0,1,5]],inplace=True)#inplace!!\n",
    "DFwiki"
   ]
  },
  {
   "cell_type": "markdown",
   "metadata": {},
   "source": [
    "2. Check column names"
   ]
  },
  {
   "cell_type": "code",
   "execution_count": 7,
   "metadata": {},
   "outputs": [
    {
     "data": {
      "text/plain": [
       "['Country',\n",
       " 'Regime type',\n",
       " 'Overall score',\n",
       " 'Elec\\xadtoral pro\\xadcess and plura\\xadlism',\n",
       " 'Func\\xadtioning of govern\\xadment',\n",
       " 'Poli\\xadtical partici\\xadpation',\n",
       " 'Poli\\xadtical cul\\xadture',\n",
       " 'Civil liber\\xadties']"
      ]
     },
     "execution_count": 7,
     "metadata": {},
     "output_type": "execute_result"
    }
   ],
   "source": [
    "DFwiki.columns.to_list()"
   ]
  },
  {
   "cell_type": "markdown",
   "metadata": {},
   "source": [
    "You should avoid spaces and weird strings in columns names, what about..."
   ]
  },
  {
   "cell_type": "code",
   "execution_count": 8,
   "metadata": {},
   "outputs": [
    {
     "data": {
      "text/plain": [
       "Index(['Country', 'Regimetype', 'Overallscore', 'Electoralprocessandpluralism',\n",
       "       'Functioningofgovernment', 'Politicalparticipation', 'Politicalculture',\n",
       "       'Civilliberties'],\n",
       "      dtype='object')"
      ]
     },
     "execution_count": 8,
     "metadata": {},
     "output_type": "execute_result"
    }
   ],
   "source": [
    "DFwiki.columns.str.replace(\"\\xad|\\s\",\"\",regex=True)"
   ]
  },
  {
   "cell_type": "markdown",
   "metadata": {},
   "source": [
    "Now you can alter the column names:"
   ]
  },
  {
   "cell_type": "code",
   "execution_count": 9,
   "metadata": {},
   "outputs": [],
   "source": [
    "DFwiki.columns=DFwiki.columns.str.replace(\"\\xad|\\s\",\"\",regex=True)"
   ]
  },
  {
   "cell_type": "markdown",
   "metadata": {},
   "source": [
    "3. Check columns with strings:"
   ]
  },
  {
   "cell_type": "code",
   "execution_count": 10,
   "metadata": {},
   "outputs": [
    {
     "data": {
      "text/html": [
       "<div>\n",
       "<style scoped>\n",
       "    .dataframe tbody tr th:only-of-type {\n",
       "        vertical-align: middle;\n",
       "    }\n",
       "\n",
       "    .dataframe tbody tr th {\n",
       "        vertical-align: top;\n",
       "    }\n",
       "\n",
       "    .dataframe thead th {\n",
       "        text-align: right;\n",
       "    }\n",
       "</style>\n",
       "<table border=\"1\" class=\"dataframe\">\n",
       "  <thead>\n",
       "    <tr style=\"text-align: right;\">\n",
       "      <th></th>\n",
       "      <th>Country</th>\n",
       "      <th>Regimetype</th>\n",
       "    </tr>\n",
       "  </thead>\n",
       "  <tbody>\n",
       "    <tr>\n",
       "      <th>0</th>\n",
       "      <td>Full democracies</td>\n",
       "      <td>Full democracies</td>\n",
       "    </tr>\n",
       "    <tr>\n",
       "      <th>1</th>\n",
       "      <td>Norway</td>\n",
       "      <td>Full democracy</td>\n",
       "    </tr>\n",
       "    <tr>\n",
       "      <th>2</th>\n",
       "      <td>New Zealand</td>\n",
       "      <td>Full democracy</td>\n",
       "    </tr>\n",
       "    <tr>\n",
       "      <th>3</th>\n",
       "      <td>Finland</td>\n",
       "      <td>Full democracy</td>\n",
       "    </tr>\n",
       "    <tr>\n",
       "      <th>4</th>\n",
       "      <td>Sweden</td>\n",
       "      <td>Full democracy</td>\n",
       "    </tr>\n",
       "    <tr>\n",
       "      <th>...</th>\n",
       "      <td>...</td>\n",
       "      <td>...</td>\n",
       "    </tr>\n",
       "    <tr>\n",
       "      <th>166</th>\n",
       "      <td>Central African Republic</td>\n",
       "      <td>Authoritarian</td>\n",
       "    </tr>\n",
       "    <tr>\n",
       "      <th>167</th>\n",
       "      <td>Democratic Republic of the Congo</td>\n",
       "      <td>Authoritarian</td>\n",
       "    </tr>\n",
       "    <tr>\n",
       "      <th>168</th>\n",
       "      <td>North Korea</td>\n",
       "      <td>Authoritarian</td>\n",
       "    </tr>\n",
       "    <tr>\n",
       "      <th>169</th>\n",
       "      <td>Myanmar</td>\n",
       "      <td>Authoritarian</td>\n",
       "    </tr>\n",
       "    <tr>\n",
       "      <th>170</th>\n",
       "      <td>Afghanistan</td>\n",
       "      <td>Authoritarian</td>\n",
       "    </tr>\n",
       "  </tbody>\n",
       "</table>\n",
       "<p>171 rows × 2 columns</p>\n",
       "</div>"
      ],
      "text/plain": [
       "                              Country        Regimetype\n",
       "0                    Full democracies  Full democracies\n",
       "1                              Norway    Full democracy\n",
       "2                         New Zealand    Full democracy\n",
       "3                             Finland    Full democracy\n",
       "4                              Sweden    Full democracy\n",
       "..                                ...               ...\n",
       "166          Central African Republic     Authoritarian\n",
       "167  Democratic Republic of the Congo     Authoritarian\n",
       "168                       North Korea     Authoritarian\n",
       "169                           Myanmar     Authoritarian\n",
       "170                       Afghanistan     Authoritarian\n",
       "\n",
       "[171 rows x 2 columns]"
      ]
     },
     "execution_count": 10,
     "metadata": {},
     "output_type": "execute_result"
    }
   ],
   "source": [
    "DFwiki.iloc[:,:2]"
   ]
  },
  {
   "cell_type": "markdown",
   "metadata": {},
   "source": [
    "In general, you need to check that they do not have leading (i.e., space located before the first character in a text entry field) nor trailing (i.e., space located after the last character in a text entry field) spaces:"
   ]
  },
  {
   "cell_type": "code",
   "execution_count": 11,
   "metadata": {},
   "outputs": [
    {
     "data": {
      "text/plain": [
       "'Peru'"
      ]
     },
     "execution_count": 11,
     "metadata": {},
     "output_type": "execute_result"
    }
   ],
   "source": [
    "\" Peru \".strip()"
   ]
  },
  {
   "cell_type": "markdown",
   "metadata": {},
   "source": [
    "Pandas has its own strip:"
   ]
  },
  {
   "cell_type": "code",
   "execution_count": 12,
   "metadata": {},
   "outputs": [
    {
     "data": {
      "text/plain": [
       "0                      Full democracies\n",
       "1                                Norway\n",
       "2                           New Zealand\n",
       "3                               Finland\n",
       "4                                Sweden\n",
       "                     ...               \n",
       "166            Central African Republic\n",
       "167    Democratic Republic of the Congo\n",
       "168                         North Korea\n",
       "169                             Myanmar\n",
       "170                         Afghanistan\n",
       "Name: Country, Length: 171, dtype: object"
      ]
     },
     "execution_count": 12,
     "metadata": {},
     "output_type": "execute_result"
    }
   ],
   "source": [
    "DFwiki.Country.str.strip()"
   ]
  },
  {
   "cell_type": "markdown",
   "metadata": {},
   "source": [
    "You can use that several times, because you can not use that function on several columns directly; unless..."
   ]
  },
  {
   "cell_type": "code",
   "execution_count": 13,
   "metadata": {},
   "outputs": [
    {
     "data": {
      "text/html": [
       "<div>\n",
       "<style scoped>\n",
       "    .dataframe tbody tr th:only-of-type {\n",
       "        vertical-align: middle;\n",
       "    }\n",
       "\n",
       "    .dataframe tbody tr th {\n",
       "        vertical-align: top;\n",
       "    }\n",
       "\n",
       "    .dataframe thead th {\n",
       "        text-align: right;\n",
       "    }\n",
       "</style>\n",
       "<table border=\"1\" class=\"dataframe\">\n",
       "  <thead>\n",
       "    <tr style=\"text-align: right;\">\n",
       "      <th></th>\n",
       "      <th>Country</th>\n",
       "      <th>Regimetype</th>\n",
       "    </tr>\n",
       "  </thead>\n",
       "  <tbody>\n",
       "    <tr>\n",
       "      <th>0</th>\n",
       "      <td>Full democracies</td>\n",
       "      <td>Full democracies</td>\n",
       "    </tr>\n",
       "    <tr>\n",
       "      <th>1</th>\n",
       "      <td>Norway</td>\n",
       "      <td>Full democracy</td>\n",
       "    </tr>\n",
       "    <tr>\n",
       "      <th>2</th>\n",
       "      <td>New Zealand</td>\n",
       "      <td>Full democracy</td>\n",
       "    </tr>\n",
       "    <tr>\n",
       "      <th>3</th>\n",
       "      <td>Finland</td>\n",
       "      <td>Full democracy</td>\n",
       "    </tr>\n",
       "    <tr>\n",
       "      <th>4</th>\n",
       "      <td>Sweden</td>\n",
       "      <td>Full democracy</td>\n",
       "    </tr>\n",
       "    <tr>\n",
       "      <th>...</th>\n",
       "      <td>...</td>\n",
       "      <td>...</td>\n",
       "    </tr>\n",
       "    <tr>\n",
       "      <th>166</th>\n",
       "      <td>Central African Republic</td>\n",
       "      <td>Authoritarian</td>\n",
       "    </tr>\n",
       "    <tr>\n",
       "      <th>167</th>\n",
       "      <td>Democratic Republic of the Congo</td>\n",
       "      <td>Authoritarian</td>\n",
       "    </tr>\n",
       "    <tr>\n",
       "      <th>168</th>\n",
       "      <td>North Korea</td>\n",
       "      <td>Authoritarian</td>\n",
       "    </tr>\n",
       "    <tr>\n",
       "      <th>169</th>\n",
       "      <td>Myanmar</td>\n",
       "      <td>Authoritarian</td>\n",
       "    </tr>\n",
       "    <tr>\n",
       "      <th>170</th>\n",
       "      <td>Afghanistan</td>\n",
       "      <td>Authoritarian</td>\n",
       "    </tr>\n",
       "  </tbody>\n",
       "</table>\n",
       "<p>171 rows × 2 columns</p>\n",
       "</div>"
      ],
      "text/plain": [
       "                              Country        Regimetype\n",
       "0                    Full democracies  Full democracies\n",
       "1                              Norway    Full democracy\n",
       "2                         New Zealand    Full democracy\n",
       "3                             Finland    Full democracy\n",
       "4                              Sweden    Full democracy\n",
       "..                                ...               ...\n",
       "166          Central African Republic     Authoritarian\n",
       "167  Democratic Republic of the Congo     Authoritarian\n",
       "168                       North Korea     Authoritarian\n",
       "169                           Myanmar     Authoritarian\n",
       "170                       Afghanistan     Authoritarian\n",
       "\n",
       "[171 rows x 2 columns]"
      ]
     },
     "execution_count": 13,
     "metadata": {},
     "output_type": "execute_result"
    }
   ],
   "source": [
    "DFwiki.iloc[:,:2].apply(lambda x: x.str.strip())"
   ]
  },
  {
   "cell_type": "markdown",
   "metadata": {},
   "source": [
    "You can make the changes:"
   ]
  },
  {
   "cell_type": "code",
   "execution_count": 14,
   "metadata": {},
   "outputs": [],
   "source": [
    "DFwiki.iloc[:,:2]=DFwiki.iloc[:,:2].apply(lambda x: x.str.strip())"
   ]
  },
  {
   "cell_type": "markdown",
   "metadata": {},
   "source": [
    "4. Check levels of Categorical columns"
   ]
  },
  {
   "cell_type": "code",
   "execution_count": 15,
   "metadata": {},
   "outputs": [
    {
     "data": {
      "text/plain": [
       "0      Full democracies\n",
       "1        Full democracy\n",
       "2        Full democracy\n",
       "3        Full democracy\n",
       "4        Full democracy\n",
       "             ...       \n",
       "166       Authoritarian\n",
       "167       Authoritarian\n",
       "168       Authoritarian\n",
       "169       Authoritarian\n",
       "170       Authoritarian\n",
       "Name: Regimetype, Length: 171, dtype: object"
      ]
     },
     "execution_count": 15,
     "metadata": {},
     "output_type": "execute_result"
    }
   ],
   "source": [
    "DFwiki.iloc[:,1]"
   ]
  },
  {
   "cell_type": "markdown",
   "metadata": {},
   "source": [
    "The column **Regimetype** is a category. You should always ask a frequency table to detect possible errors:"
   ]
  },
  {
   "cell_type": "code",
   "execution_count": 16,
   "metadata": {},
   "outputs": [
    {
     "data": {
      "text/plain": [
       "Authoritarian            59\n",
       "Flawed democracy         53\n",
       "Hybrid regime            34\n",
       "Full democracy           21\n",
       "Full democracies          1\n",
       "Flawed democracies        1\n",
       "Hybrid regimes            1\n",
       "Authoritarian regimes     1\n",
       "Name: Regimetype, dtype: int64"
      ]
     },
     "execution_count": 16,
     "metadata": {},
     "output_type": "execute_result"
    }
   ],
   "source": [
    "DFwiki.Regimetype.value_counts()"
   ]
  },
  {
   "cell_type": "markdown",
   "metadata": {},
   "source": [
    "Notice the similar values that only have one count. Those are not levels. If you visit the webpage you will see they are labels of sections in the table. Let me get those values as a list:"
   ]
  },
  {
   "cell_type": "code",
   "execution_count": 17,
   "metadata": {},
   "outputs": [
    {
     "data": {
      "text/plain": [
       "['Full democracies',\n",
       " 'Flawed democracies',\n",
       " 'Hybrid regimes',\n",
       " 'Authoritarian regimes']"
      ]
     },
     "execution_count": 17,
     "metadata": {},
     "output_type": "execute_result"
    }
   ],
   "source": [
    "tableCounts=DFwiki.Regimetype.value_counts()\n",
    "tableCounts[tableCounts==1].index.to_list()"
   ]
  },
  {
   "cell_type": "markdown",
   "metadata": {},
   "source": [
    "Now, let me confirm they should be erased from the data:"
   ]
  },
  {
   "cell_type": "code",
   "execution_count": 18,
   "metadata": {},
   "outputs": [
    {
     "data": {
      "text/html": [
       "<div>\n",
       "<style scoped>\n",
       "    .dataframe tbody tr th:only-of-type {\n",
       "        vertical-align: middle;\n",
       "    }\n",
       "\n",
       "    .dataframe tbody tr th {\n",
       "        vertical-align: top;\n",
       "    }\n",
       "\n",
       "    .dataframe thead th {\n",
       "        text-align: right;\n",
       "    }\n",
       "</style>\n",
       "<table border=\"1\" class=\"dataframe\">\n",
       "  <thead>\n",
       "    <tr style=\"text-align: right;\">\n",
       "      <th></th>\n",
       "      <th>Country</th>\n",
       "      <th>Regimetype</th>\n",
       "      <th>Overallscore</th>\n",
       "      <th>Electoralprocessandpluralism</th>\n",
       "      <th>Functioningofgovernment</th>\n",
       "      <th>Politicalparticipation</th>\n",
       "      <th>Politicalculture</th>\n",
       "      <th>Civilliberties</th>\n",
       "    </tr>\n",
       "  </thead>\n",
       "  <tbody>\n",
       "    <tr>\n",
       "      <th>0</th>\n",
       "      <td>Full democracies</td>\n",
       "      <td>Full democracies</td>\n",
       "      <td>Full democracies</td>\n",
       "      <td>Full democracies</td>\n",
       "      <td>Full democracies</td>\n",
       "      <td>Full democracies</td>\n",
       "      <td>Full democracies</td>\n",
       "      <td>Full democracies</td>\n",
       "    </tr>\n",
       "    <tr>\n",
       "      <th>22</th>\n",
       "      <td>Flawed democracies</td>\n",
       "      <td>Flawed democracies</td>\n",
       "      <td>Flawed democracies</td>\n",
       "      <td>Flawed democracies</td>\n",
       "      <td>Flawed democracies</td>\n",
       "      <td>Flawed democracies</td>\n",
       "      <td>Flawed democracies</td>\n",
       "      <td>Flawed democracies</td>\n",
       "    </tr>\n",
       "    <tr>\n",
       "      <th>76</th>\n",
       "      <td>Hybrid regimes</td>\n",
       "      <td>Hybrid regimes</td>\n",
       "      <td>Hybrid regimes</td>\n",
       "      <td>Hybrid regimes</td>\n",
       "      <td>Hybrid regimes</td>\n",
       "      <td>Hybrid regimes</td>\n",
       "      <td>Hybrid regimes</td>\n",
       "      <td>Hybrid regimes</td>\n",
       "    </tr>\n",
       "    <tr>\n",
       "      <th>111</th>\n",
       "      <td>Authoritarian regimes</td>\n",
       "      <td>Authoritarian regimes</td>\n",
       "      <td>Authoritarian regimes</td>\n",
       "      <td>Authoritarian regimes</td>\n",
       "      <td>Authoritarian regimes</td>\n",
       "      <td>Authoritarian regimes</td>\n",
       "      <td>Authoritarian regimes</td>\n",
       "      <td>Authoritarian regimes</td>\n",
       "    </tr>\n",
       "  </tbody>\n",
       "</table>\n",
       "</div>"
      ],
      "text/plain": [
       "                   Country             Regimetype           Overallscore  \\\n",
       "0         Full democracies       Full democracies       Full democracies   \n",
       "22      Flawed democracies     Flawed democracies     Flawed democracies   \n",
       "76          Hybrid regimes         Hybrid regimes         Hybrid regimes   \n",
       "111  Authoritarian regimes  Authoritarian regimes  Authoritarian regimes   \n",
       "\n",
       "    Electoralprocessandpluralism Functioningofgovernment  \\\n",
       "0               Full democracies        Full democracies   \n",
       "22            Flawed democracies      Flawed democracies   \n",
       "76                Hybrid regimes          Hybrid regimes   \n",
       "111        Authoritarian regimes   Authoritarian regimes   \n",
       "\n",
       "    Politicalparticipation       Politicalculture         Civilliberties  \n",
       "0         Full democracies       Full democracies       Full democracies  \n",
       "22      Flawed democracies     Flawed democracies     Flawed democracies  \n",
       "76          Hybrid regimes         Hybrid regimes         Hybrid regimes  \n",
       "111  Authoritarian regimes  Authoritarian regimes  Authoritarian regimes  "
      ]
     },
     "execution_count": 18,
     "metadata": {},
     "output_type": "execute_result"
    }
   ],
   "source": [
    "badLevels=tableCounts[tableCounts==1].index.to_list()\n",
    "DFwiki[DFwiki.Regimetype.isin(badLevels)]"
   ]
  },
  {
   "cell_type": "markdown",
   "metadata": {},
   "source": [
    "Then, we are good without them:"
   ]
  },
  {
   "cell_type": "code",
   "execution_count": 20,
   "metadata": {},
   "outputs": [
    {
     "data": {
      "text/html": [
       "<div>\n",
       "<style scoped>\n",
       "    .dataframe tbody tr th:only-of-type {\n",
       "        vertical-align: middle;\n",
       "    }\n",
       "\n",
       "    .dataframe tbody tr th {\n",
       "        vertical-align: top;\n",
       "    }\n",
       "\n",
       "    .dataframe thead th {\n",
       "        text-align: right;\n",
       "    }\n",
       "</style>\n",
       "<table border=\"1\" class=\"dataframe\">\n",
       "  <thead>\n",
       "    <tr style=\"text-align: right;\">\n",
       "      <th></th>\n",
       "      <th>Country</th>\n",
       "      <th>Regimetype</th>\n",
       "      <th>Overallscore</th>\n",
       "      <th>Electoralprocessandpluralism</th>\n",
       "      <th>Functioningofgovernment</th>\n",
       "      <th>Politicalparticipation</th>\n",
       "      <th>Politicalculture</th>\n",
       "      <th>Civilliberties</th>\n",
       "    </tr>\n",
       "  </thead>\n",
       "  <tbody>\n",
       "    <tr>\n",
       "      <th>1</th>\n",
       "      <td>Norway</td>\n",
       "      <td>Full democracy</td>\n",
       "      <td>9.75</td>\n",
       "      <td>10.00</td>\n",
       "      <td>9.64</td>\n",
       "      <td>10.00</td>\n",
       "      <td>10.00</td>\n",
       "      <td>9.12</td>\n",
       "    </tr>\n",
       "    <tr>\n",
       "      <th>2</th>\n",
       "      <td>New Zealand</td>\n",
       "      <td>Full democracy</td>\n",
       "      <td>9.37</td>\n",
       "      <td>10.00</td>\n",
       "      <td>8.93</td>\n",
       "      <td>9.44</td>\n",
       "      <td>8.75</td>\n",
       "      <td>9.71</td>\n",
       "    </tr>\n",
       "    <tr>\n",
       "      <th>3</th>\n",
       "      <td>Finland</td>\n",
       "      <td>Full democracy</td>\n",
       "      <td>9.27</td>\n",
       "      <td>10.00</td>\n",
       "      <td>9.29</td>\n",
       "      <td>8.89</td>\n",
       "      <td>8.75</td>\n",
       "      <td>9.41</td>\n",
       "    </tr>\n",
       "    <tr>\n",
       "      <th>4</th>\n",
       "      <td>Sweden</td>\n",
       "      <td>Full democracy</td>\n",
       "      <td>9.26</td>\n",
       "      <td>9.58</td>\n",
       "      <td>9.29</td>\n",
       "      <td>8.33</td>\n",
       "      <td>10.00</td>\n",
       "      <td>9.12</td>\n",
       "    </tr>\n",
       "    <tr>\n",
       "      <th>5</th>\n",
       "      <td>Iceland</td>\n",
       "      <td>Full democracy</td>\n",
       "      <td>9.18</td>\n",
       "      <td>10.00</td>\n",
       "      <td>8.21</td>\n",
       "      <td>8.89</td>\n",
       "      <td>9.38</td>\n",
       "      <td>9.41</td>\n",
       "    </tr>\n",
       "    <tr>\n",
       "      <th>...</th>\n",
       "      <td>...</td>\n",
       "      <td>...</td>\n",
       "      <td>...</td>\n",
       "      <td>...</td>\n",
       "      <td>...</td>\n",
       "      <td>...</td>\n",
       "      <td>...</td>\n",
       "      <td>...</td>\n",
       "    </tr>\n",
       "    <tr>\n",
       "      <th>166</th>\n",
       "      <td>Central African Republic</td>\n",
       "      <td>Authoritarian</td>\n",
       "      <td>1.43</td>\n",
       "      <td>1.25</td>\n",
       "      <td>0.00</td>\n",
       "      <td>1.67</td>\n",
       "      <td>1.88</td>\n",
       "      <td>2.35</td>\n",
       "    </tr>\n",
       "    <tr>\n",
       "      <th>167</th>\n",
       "      <td>Democratic Republic of the Congo</td>\n",
       "      <td>Authoritarian</td>\n",
       "      <td>1.40</td>\n",
       "      <td>0.75</td>\n",
       "      <td>0.00</td>\n",
       "      <td>2.22</td>\n",
       "      <td>3.13</td>\n",
       "      <td>0.88</td>\n",
       "    </tr>\n",
       "    <tr>\n",
       "      <th>168</th>\n",
       "      <td>North Korea</td>\n",
       "      <td>Authoritarian</td>\n",
       "      <td>1.08</td>\n",
       "      <td>0.00</td>\n",
       "      <td>2.50</td>\n",
       "      <td>1.67</td>\n",
       "      <td>1.25</td>\n",
       "      <td>0.00</td>\n",
       "    </tr>\n",
       "    <tr>\n",
       "      <th>169</th>\n",
       "      <td>Myanmar</td>\n",
       "      <td>Authoritarian</td>\n",
       "      <td>1.02</td>\n",
       "      <td>0.00</td>\n",
       "      <td>0.00</td>\n",
       "      <td>1.67</td>\n",
       "      <td>3.13</td>\n",
       "      <td>0.29</td>\n",
       "    </tr>\n",
       "    <tr>\n",
       "      <th>170</th>\n",
       "      <td>Afghanistan</td>\n",
       "      <td>Authoritarian</td>\n",
       "      <td>0.32</td>\n",
       "      <td>0.00</td>\n",
       "      <td>0.07</td>\n",
       "      <td>0.00</td>\n",
       "      <td>1.25</td>\n",
       "      <td>0.29</td>\n",
       "    </tr>\n",
       "  </tbody>\n",
       "</table>\n",
       "<p>167 rows × 8 columns</p>\n",
       "</div>"
      ],
      "text/plain": [
       "                              Country      Regimetype Overallscore  \\\n",
       "1                              Norway  Full democracy         9.75   \n",
       "2                         New Zealand  Full democracy         9.37   \n",
       "3                             Finland  Full democracy         9.27   \n",
       "4                              Sweden  Full democracy         9.26   \n",
       "5                             Iceland  Full democracy         9.18   \n",
       "..                                ...             ...          ...   \n",
       "166          Central African Republic   Authoritarian         1.43   \n",
       "167  Democratic Republic of the Congo   Authoritarian         1.40   \n",
       "168                       North Korea   Authoritarian         1.08   \n",
       "169                           Myanmar   Authoritarian         1.02   \n",
       "170                       Afghanistan   Authoritarian         0.32   \n",
       "\n",
       "    Electoralprocessandpluralism Functioningofgovernment  \\\n",
       "1                          10.00                    9.64   \n",
       "2                          10.00                    8.93   \n",
       "3                          10.00                    9.29   \n",
       "4                           9.58                    9.29   \n",
       "5                          10.00                    8.21   \n",
       "..                           ...                     ...   \n",
       "166                         1.25                    0.00   \n",
       "167                         0.75                    0.00   \n",
       "168                         0.00                    2.50   \n",
       "169                         0.00                    0.00   \n",
       "170                         0.00                    0.07   \n",
       "\n",
       "    Politicalparticipation Politicalculture Civilliberties  \n",
       "1                    10.00            10.00           9.12  \n",
       "2                     9.44             8.75           9.71  \n",
       "3                     8.89             8.75           9.41  \n",
       "4                     8.33            10.00           9.12  \n",
       "5                     8.89             9.38           9.41  \n",
       "..                     ...              ...            ...  \n",
       "166                   1.67             1.88           2.35  \n",
       "167                   2.22             3.13           0.88  \n",
       "168                   1.67             1.25           0.00  \n",
       "169                   1.67             3.13           0.29  \n",
       "170                   0.00             1.25           0.29  \n",
       "\n",
       "[167 rows x 8 columns]"
      ]
     },
     "execution_count": 20,
     "metadata": {},
     "output_type": "execute_result"
    }
   ],
   "source": [
    "DFwiki=DFwiki[~DFwiki.Regimetype.isin(badLevels)]\n",
    "DFwiki"
   ]
  },
  {
   "cell_type": "markdown",
   "metadata": {},
   "source": [
    "# II. Formatting\n",
    "\n",
    "\n",
    "1. Check the data types\n",
    "\n",
    "First, see what data types have been assigned by Python to each column:"
   ]
  },
  {
   "cell_type": "code",
   "execution_count": 21,
   "metadata": {},
   "outputs": [
    {
     "name": "stdout",
     "output_type": "stream",
     "text": [
      "<class 'pandas.core.frame.DataFrame'>\n",
      "Int64Index: 167 entries, 1 to 170\n",
      "Data columns (total 8 columns):\n",
      " #   Column                        Non-Null Count  Dtype \n",
      "---  ------                        --------------  ----- \n",
      " 0   Country                       167 non-null    object\n",
      " 1   Regimetype                    167 non-null    object\n",
      " 2   Overallscore                  167 non-null    object\n",
      " 3   Electoralprocessandpluralism  167 non-null    object\n",
      " 4   Functioningofgovernment       167 non-null    object\n",
      " 5   Politicalparticipation        167 non-null    object\n",
      " 6   Politicalculture              167 non-null    object\n",
      " 7   Civilliberties                167 non-null    object\n",
      "dtypes: object(8)\n",
      "memory usage: 11.7+ KB\n"
     ]
    }
   ],
   "source": [
    "DFwiki.info()"
   ]
  },
  {
   "cell_type": "markdown",
   "metadata": {},
   "source": [
    "If the columns have texts, Python will say it is an **object**. That is OK for _Country_, but not for the others. _Regimetype_ is a **category**, and all the other columns are **numeric** values.\n",
    "\n",
    "2. Text to categorical\n",
    "\n"
   ]
  },
  {
   "cell_type": "code",
   "execution_count": 23,
   "metadata": {},
   "outputs": [
    {
     "data": {
      "text/plain": [
       "Authoritarian       59\n",
       "Flawed democracy    53\n",
       "Hybrid regime       34\n",
       "Full democracy      21\n",
       "Name: Regimetype, dtype: int64"
      ]
     },
     "execution_count": 23,
     "metadata": {},
     "output_type": "execute_result"
    }
   ],
   "source": [
    "DFwiki.Regimetype.value_counts()"
   ]
  },
  {
   "cell_type": "markdown",
   "metadata": {},
   "source": [
    "In the cleaning process we got rid of the wrong levels, now we need to set the right data type:"
   ]
  },
  {
   "cell_type": "code",
   "execution_count": 24,
   "metadata": {},
   "outputs": [],
   "source": [
    "from pandas.api.types import CategoricalDtype\n",
    "\n",
    "# notice ascending order of levels\n",
    "regimeLevels=[\"Authoritarian\", \"Hybrid regime\",\"Flawed democracy\", \"Full democracy\"]\n",
    "\n",
    "# create data type\n",
    "regimeOrdered = CategoricalDtype(categories=regimeLevels, ordered=True)\n",
    "\n",
    "# make the change:\n",
    "DFwiki['Regimetype']=DFwiki.Regimetype.astype(regimeOrdered)"
   ]
  },
  {
   "cell_type": "markdown",
   "metadata": {},
   "source": [
    "See the changes:"
   ]
  },
  {
   "cell_type": "code",
   "execution_count": 25,
   "metadata": {},
   "outputs": [
    {
     "data": {
      "text/plain": [
       "1      Full democracy\n",
       "2      Full democracy\n",
       "3      Full democracy\n",
       "4      Full democracy\n",
       "5      Full democracy\n",
       "            ...      \n",
       "166     Authoritarian\n",
       "167     Authoritarian\n",
       "168     Authoritarian\n",
       "169     Authoritarian\n",
       "170     Authoritarian\n",
       "Name: Regimetype, Length: 167, dtype: category\n",
       "Categories (4, object): ['Authoritarian' < 'Hybrid regime' < 'Flawed democracy' < 'Full democracy']"
      ]
     },
     "execution_count": 25,
     "metadata": {},
     "output_type": "execute_result"
    }
   ],
   "source": [
    "DFwiki.Regimetype"
   ]
  },
  {
   "cell_type": "markdown",
   "metadata": {},
   "source": [
    "3. Numbers that need to be numerical type\n",
    "\n",
    "This is simple with **to_numeric** from pandas. See how it works:\n"
   ]
  },
  {
   "cell_type": "code",
   "execution_count": 26,
   "metadata": {},
   "outputs": [
    {
     "data": {
      "text/plain": [
       "1      9.75\n",
       "2      9.37\n",
       "3      9.27\n",
       "4      9.26\n",
       "5      9.18\n",
       "       ... \n",
       "166    1.43\n",
       "167    1.40\n",
       "168    1.08\n",
       "169    1.02\n",
       "170    0.32\n",
       "Name: Overallscore, Length: 167, dtype: object"
      ]
     },
     "execution_count": 26,
     "metadata": {},
     "output_type": "execute_result"
    }
   ],
   "source": [
    "DFwiki.Overallscore"
   ]
  },
  {
   "cell_type": "code",
   "execution_count": 27,
   "metadata": {},
   "outputs": [
    {
     "data": {
      "text/plain": [
       "1      9.75\n",
       "2      9.37\n",
       "3      9.27\n",
       "4      9.26\n",
       "5      9.18\n",
       "       ... \n",
       "166    1.43\n",
       "167    1.40\n",
       "168    1.08\n",
       "169    1.02\n",
       "170    0.32\n",
       "Name: Overallscore, Length: 167, dtype: float64"
      ]
     },
     "execution_count": 27,
     "metadata": {},
     "output_type": "execute_result"
    }
   ],
   "source": [
    "pd.to_numeric(DFwiki.Overallscore,errors='coerce')"
   ]
  },
  {
   "cell_type": "markdown",
   "metadata": {},
   "source": [
    "However, that functions can not be applied to a set columns, but one column at a time."
   ]
  },
  {
   "cell_type": "code",
   "execution_count": 28,
   "metadata": {},
   "outputs": [],
   "source": [
    "# this will not work:\n",
    "# pd.to_numeric(DFwiki.iloc[:,2:])"
   ]
  },
  {
   "cell_type": "markdown",
   "metadata": {},
   "source": [
    "Let me show you some strategies:"
   ]
  },
  {
   "cell_type": "code",
   "execution_count": 29,
   "metadata": {},
   "outputs": [
    {
     "name": "stdout",
     "output_type": "stream",
     "text": [
      "<class 'pandas.core.frame.DataFrame'>\n",
      "Int64Index: 167 entries, 1 to 170\n",
      "Data columns (total 8 columns):\n",
      " #   Column                        Non-Null Count  Dtype   \n",
      "---  ------                        --------------  -----   \n",
      " 0   Country                       167 non-null    object  \n",
      " 1   Regimetype                    167 non-null    category\n",
      " 2   Overallscore                  167 non-null    float64 \n",
      " 3   Electoralprocessandpluralism  167 non-null    float64 \n",
      " 4   Functioningofgovernment       167 non-null    float64 \n",
      " 5   Politicalparticipation        167 non-null    float64 \n",
      " 6   Politicalculture              167 non-null    float64 \n",
      " 7   Civilliberties                167 non-null    float64 \n",
      "dtypes: category(1), float64(6), object(1)\n",
      "memory usage: 10.8+ KB\n"
     ]
    }
   ],
   "source": [
    "# copy\n",
    "DFtest1=DFwiki.copy()\n",
    "# creating dictionaries:\n",
    "where=DFtest1.columns[2:]\n",
    "newCols={col:pd.to_numeric(DFtest1.loc[:,col],errors='coerce') for col in where}\n",
    "\n",
    "#then:\n",
    "DFtest1[where]=pd.DataFrame(newCols)\n",
    "DFtest1.info()\n"
   ]
  },
  {
   "cell_type": "code",
   "execution_count": 31,
   "metadata": {},
   "outputs": [
    {
     "name": "stdout",
     "output_type": "stream",
     "text": [
      "<class 'pandas.core.frame.DataFrame'>\n",
      "Int64Index: 167 entries, 1 to 170\n",
      "Data columns (total 8 columns):\n",
      " #   Column                        Non-Null Count  Dtype   \n",
      "---  ------                        --------------  -----   \n",
      " 0   Country                       167 non-null    object  \n",
      " 1   Regimetype                    167 non-null    category\n",
      " 2   Overallscore                  167 non-null    float64 \n",
      " 3   Electoralprocessandpluralism  167 non-null    float64 \n",
      " 4   Functioningofgovernment       167 non-null    float64 \n",
      " 5   Politicalparticipation        167 non-null    float64 \n",
      " 6   Politicalculture              167 non-null    float64 \n",
      " 7   Civilliberties                167 non-null    float64 \n",
      "dtypes: category(1), float64(6), object(1)\n",
      "memory usage: 10.8+ KB\n"
     ]
    },
    {
     "name": "stderr",
     "output_type": "stream",
     "text": [
      "/var/folders/jb/lq0t13x96m323srfn512c7cm0000gn/T/ipykernel_19012/927837133.py:6: FutureWarning: In a future version, `df.iloc[:, i] = newvals` will attempt to set the values inplace instead of always setting a new array. To retain the old behavior, use either `df[df.columns[i]] = newvals` or, if columns are non-unique, `df.isetitem(i, newvals)`\n",
      "  DFtest2.loc[:,col]=pd.to_numeric(DFtest2.loc[:,col],errors='coerce')\n"
     ]
    }
   ],
   "source": [
    "# using loops:\n",
    "\n",
    "DFtest2=DFwiki.copy()\n",
    "\n",
    "for col in DFtest2.columns[2:]:\n",
    "    DFtest2.loc[:,col]=pd.to_numeric(DFtest2.loc[:,col],errors='coerce')\n",
    "\n",
    "DFtest2.info()"
   ]
  },
  {
   "cell_type": "markdown",
   "metadata": {},
   "source": [
    "A simpler way might be just **apply** the function:"
   ]
  },
  {
   "cell_type": "code",
   "execution_count": 32,
   "metadata": {},
   "outputs": [
    {
     "name": "stdout",
     "output_type": "stream",
     "text": [
      "<class 'pandas.core.frame.DataFrame'>\n",
      "Int64Index: 167 entries, 1 to 170\n",
      "Data columns (total 8 columns):\n",
      " #   Column                        Non-Null Count  Dtype   \n",
      "---  ------                        --------------  -----   \n",
      " 0   Country                       167 non-null    object  \n",
      " 1   Regimetype                    167 non-null    category\n",
      " 2   Overallscore                  167 non-null    float64 \n",
      " 3   Electoralprocessandpluralism  167 non-null    float64 \n",
      " 4   Functioningofgovernment       167 non-null    float64 \n",
      " 5   Politicalparticipation        167 non-null    float64 \n",
      " 6   Politicalculture              167 non-null    float64 \n",
      " 7   Civilliberties                167 non-null    float64 \n",
      "dtypes: category(1), float64(6), object(1)\n",
      "memory usage: 10.8+ KB\n"
     ]
    }
   ],
   "source": [
    "DFtest2[where]=DFtest2.loc[:,where].apply(pd.to_numeric,errors='coerce')\n",
    "DFtest2.info()"
   ]
  },
  {
   "cell_type": "markdown",
   "metadata": {},
   "source": [
    "Let's follow the last strategy:"
   ]
  },
  {
   "cell_type": "code",
   "execution_count": 36,
   "metadata": {},
   "outputs": [],
   "source": [
    "# Apply function\n",
    "where=DFwiki.columns[2:]\n",
    "DFwiki[where]=DFwiki.loc[:,where].apply(pd.to_numeric,errors='coerce')"
   ]
  },
  {
   "cell_type": "code",
   "execution_count": 34,
   "metadata": {},
   "outputs": [
    {
     "name": "stdout",
     "output_type": "stream",
     "text": [
      "<class 'pandas.core.frame.DataFrame'>\n",
      "Int64Index: 167 entries, 1 to 170\n",
      "Data columns (total 8 columns):\n",
      " #   Column                        Non-Null Count  Dtype   \n",
      "---  ------                        --------------  -----   \n",
      " 0   Country                       167 non-null    object  \n",
      " 1   Regimetype                    167 non-null    category\n",
      " 2   Overallscore                  167 non-null    float64 \n",
      " 3   Electoralprocessandpluralism  167 non-null    float64 \n",
      " 4   Functioningofgovernment       167 non-null    float64 \n",
      " 5   Politicalparticipation        167 non-null    float64 \n",
      " 6   Politicalculture              167 non-null    float64 \n",
      " 7   Civilliberties                167 non-null    float64 \n",
      "dtypes: category(1), float64(6), object(1)\n",
      "memory usage: 10.8+ KB\n"
     ]
    }
   ],
   "source": [
    "# result\n",
    "\n",
    "DFwiki.info()"
   ]
  },
  {
   "cell_type": "markdown",
   "metadata": {},
   "source": [
    "The DF now has the right data types. \n",
    "\n",
    "It would be a good idea to save this work:"
   ]
  },
  {
   "cell_type": "code",
   "execution_count": 37,
   "metadata": {},
   "outputs": [],
   "source": [
    "DFwiki.to_csv(\"demoindex.csv\",index=False)\n",
    "DFwiki.to_pickle(\"demoindex.pkl\")"
   ]
  },
  {
   "cell_type": "markdown",
   "metadata": {},
   "source": [
    "CSV files are very common, but let me show a disadvantage:"
   ]
  },
  {
   "cell_type": "code",
   "execution_count": 38,
   "metadata": {},
   "outputs": [
    {
     "name": "stdout",
     "output_type": "stream",
     "text": [
      "<class 'pandas.core.frame.DataFrame'>\n",
      "RangeIndex: 167 entries, 0 to 166\n",
      "Data columns (total 8 columns):\n",
      " #   Column                        Non-Null Count  Dtype  \n",
      "---  ------                        --------------  -----  \n",
      " 0   Country                       167 non-null    object \n",
      " 1   Regimetype                    167 non-null    object \n",
      " 2   Overallscore                  167 non-null    float64\n",
      " 3   Electoralprocessandpluralism  167 non-null    float64\n",
      " 4   Functioningofgovernment       167 non-null    float64\n",
      " 5   Politicalparticipation        167 non-null    float64\n",
      " 6   Politicalculture              167 non-null    float64\n",
      " 7   Civilliberties                167 non-null    float64\n",
      "dtypes: float64(6), object(2)\n",
      "memory usage: 10.6+ KB\n"
     ]
    }
   ],
   "source": [
    "democsv=pd.read_csv('demoindex.csv')\n",
    "democsv.info()"
   ]
  },
  {
   "cell_type": "markdown",
   "metadata": {},
   "source": [
    "Compare it to the pickle version:"
   ]
  },
  {
   "cell_type": "code",
   "execution_count": 39,
   "metadata": {},
   "outputs": [
    {
     "name": "stdout",
     "output_type": "stream",
     "text": [
      "<class 'pandas.core.frame.DataFrame'>\n",
      "Int64Index: 167 entries, 1 to 170\n",
      "Data columns (total 8 columns):\n",
      " #   Column                        Non-Null Count  Dtype   \n",
      "---  ------                        --------------  -----   \n",
      " 0   Country                       167 non-null    object  \n",
      " 1   Regimetype                    167 non-null    category\n",
      " 2   Overallscore                  167 non-null    float64 \n",
      " 3   Electoralprocessandpluralism  167 non-null    float64 \n",
      " 4   Functioningofgovernment       167 non-null    float64 \n",
      " 5   Politicalparticipation        167 non-null    float64 \n",
      " 6   Politicalculture              167 non-null    float64 \n",
      " 7   Civilliberties                167 non-null    float64 \n",
      "dtypes: category(1), float64(6), object(1)\n",
      "memory usage: 10.6+ KB\n"
     ]
    }
   ],
   "source": [
    "demopkl=pd.read_pickle('demoindex.pkl')\n",
    "demopkl.info()"
   ]
  },
  {
   "cell_type": "code",
   "execution_count": null,
   "metadata": {},
   "outputs": [],
   "source": []
  }
 ],
 "metadata": {
  "anaconda-cloud": {
   "attach-environment": true,
   "summary": "test"
  },
  "hide_input": false,
  "kernelspec": {
   "display_name": "Python 3 (ipykernel)",
   "language": "python",
   "name": "python3"
  },
  "language_info": {
   "codemirror_mode": {
    "name": "ipython",
    "version": 3
   },
   "file_extension": ".py",
   "mimetype": "text/x-python",
   "name": "python",
   "nbconvert_exporter": "python",
   "pygments_lexer": "ipython3",
   "version": "3.9.15"
  },
  "toc-autonumbering": false
 },
 "nbformat": 4,
 "nbformat_minor": 4
}
